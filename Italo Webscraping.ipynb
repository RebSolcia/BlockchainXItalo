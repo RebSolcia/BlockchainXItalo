{
 "cells": [
  {
   "cell_type": "code",
   "execution_count": 173,
   "id": "e2df71ce",
   "metadata": {},
   "outputs": [],
   "source": [
    "import pandas as pd\n",
    "import numpy as np\n",
    "from selenium import webdriver\n",
    "from selenium.webdriver.common.keys import Keys\n",
    "from selenium.webdriver.support.ui import WebDriverWait\n",
    "import requests\n",
    "import pprint\n",
    "from bs4 import BeautifulSoup\n",
    "from lxml import html\n",
    "import re\n",
    "import time\n",
    "import sys\n",
    "import datetime"
   ]
  },
  {
   "cell_type": "code",
   "execution_count": 185,
   "id": "b631d746-a06a-4fb8-ab06-8a934a13d740",
   "metadata": {},
   "outputs": [],
   "source": [
    "# https://chromedriver.chromium.org/downloads\n",
    "local_path_of_driver = \"/Users/steffenbrockmann/Downloads/chromedriver-2\""
   ]
  },
  {
   "cell_type": "code",
   "execution_count": 184,
   "id": "596717d8-b178-455e-9ac3-544f234a6dab",
   "metadata": {},
   "outputs": [],
   "source": [
    "def check_refund(train_number):\n",
    "    driver = webdriver.Chrome(executable_path=local_path_of_driver)\n",
    "    base_URL = 'https://italoinviaggio.italotreno.it/en/train'\n",
    "    train_number = train_number\n",
    "    driver.get(base_URL + '/' + str(train_number))\n",
    "    try:\n",
    "        delay = driver.find_element_by_xpath('/html/body/div[2]/section/div/div/div[1]/div/div/div[3]/span[2]').get_attribute(\"innerText\")\n",
    "        #print(delay)\n",
    "        if (int(delay.split()[0])) >= 60:\n",
    "            return True\n",
    "        else:\n",
    "            return False\n",
    "    except:\n",
    "        #print('There is no delay')\n",
    "        return False"
   ]
  },
  {
   "cell_type": "code",
   "execution_count": 183,
   "id": "61c4213f-9a22-49f1-ad20-1c21ab4afa20",
   "metadata": {},
   "outputs": [
    {
     "data": {
      "text/plain": [
       "True"
      ]
     },
     "execution_count": 183,
     "metadata": {},
     "output_type": "execute_result"
    }
   ],
   "source": [
    "check_refund(8907)"
   ]
  },
  {
   "cell_type": "code",
   "execution_count": 176,
   "id": "11ee156e-2165-479d-a75f-d2f3b4fcf11c",
   "metadata": {
    "tags": []
   },
   "outputs": [],
   "source": [
    "def book_ticket(departure_station, arrival_station):\n",
    "    train_URL = 'https://www.italotreno.it/en/destinations-timetable/trains-schedules'    \n",
    "    options = webdriver.ChromeOptions()\n",
    "    options.add_experimental_option(\"excludeSwitches\", [\"enable-automation\"])\n",
    "    options.add_experimental_option('useAutomationExtension', False)\n",
    "    driver = webdriver.Chrome(options=options, executable_path=local_path_of_driver)    \n",
    "    driver.get(train_URL)\n",
    "    \n",
    "    search_box_from = driver.find_element_by_xpath('/html/body/main/section[3]/div[2]/form/div[1]/div/table/tbody/tr[1]/td[1]/fieldset/div/input[1]').send_keys(departure_station)\n",
    "    search_box_to = driver.find_element_by_xpath('/html/body/main/section[3]/div[2]/form/div[1]/div/table/tbody/tr[1]/td[3]/fieldset/div/input[1]').send_keys(arrival_station)\n",
    "    \n",
    "    button = driver.find_element_by_xpath('/html/body/main/section[3]/div[2]/form/div[1]/div/table/tbody/tr[1]/td[4]/div/a')\n",
    "    webdriver.ActionChains(driver).click_and_hold(button).perform()\n",
    "    driver.execute_script(\"arguments[0].click();\", button)\n",
    "    time.sleep(3)\n",
    "    \n",
    "    time_of_departure = driver.find_element_by_xpath('/html/body/main/section[3]/div[3]/div[2]/table/tbody/tr[1]/td[1]/p[1]').get_attribute(\"innerText\")\n",
    "    time_of_arrival = driver.find_element_by_xpath('/html/body/main/section[3]/div[3]/div[2]/table/tbody/tr[1]/td[2]/p[1]').get_attribute(\"innerText\")\n",
    "    train_number = driver.find_element_by_xpath('/html/body/main/section[3]/div[3]/div[2]/table/tbody/tr[1]/td[4]/p[2]').get_attribute(\"innerText\")\n",
    "    button_book = driver.find_element_by_xpath('/html/body/main/section[3]/div[3]/div[2]/table/tbody/tr[1]/td[7]/div/div')\n",
    "    driver.execute_script(\"arguments[0].click();\", button_book)\n",
    "    price = driver.find_element_by_xpath('/html/body/form/div/div[2]/div[6]/div[1]/div[2]/div/ul/div/div/li[2]/p[3]').get_attribute(\"innerText\")\n",
    "    today = datetime.date.today()\n",
    "    date = (f'{today.year}-{today.month}-{today.day+1}')\n",
    "    results_dict = {'date': date, 'departure_station': departure_station, 'arrival_station': arrival_station, 'time_of_departure': time_of_departure, 'time_of_arrival': time_of_arrival, 'train_number': train_number, 'price': price}\n",
    "    return results_dict"
   ]
  },
  {
   "cell_type": "code",
   "execution_count": 180,
   "id": "83ad7059-5ee3-43af-9352-32a2ffe66b4b",
   "metadata": {},
   "outputs": [
    {
     "data": {
      "text/plain": [
       "{'date': '2021-12-10',\n",
       " 'departure_station': 'Roma Termini',\n",
       " 'arrival_station': 'Napoli Centrale',\n",
       " 'time_of_departure': '07:40',\n",
       " 'time_of_arrival': '08:54',\n",
       " 'train_number': '9903',\n",
       " 'price': '45.90 €'}"
      ]
     },
     "execution_count": 180,
     "metadata": {},
     "output_type": "execute_result"
    }
   ],
   "source": [
    "book_ticket('Roma Termini', 'Napoli Centrale')"
   ]
  },
  {
   "cell_type": "code",
   "execution_count": null,
   "id": "79bf282f-a8c7-4f29-afa4-344855af3f97",
   "metadata": {},
   "outputs": [],
   "source": []
  },
  {
   "cell_type": "code",
   "execution_count": null,
   "id": "cceff66c-9736-45ec-902f-1f44b9a66f4f",
   "metadata": {},
   "outputs": [],
   "source": []
  }
 ],
 "metadata": {
  "kernelspec": {
   "display_name": "Python 3",
   "language": "python",
   "name": "python3"
  },
  "language_info": {
   "codemirror_mode": {
    "name": "ipython",
    "version": 3
   },
   "file_extension": ".py",
   "mimetype": "text/x-python",
   "name": "python",
   "nbconvert_exporter": "python",
   "pygments_lexer": "ipython3",
   "version": "3.8.5"
  }
 },
 "nbformat": 4,
 "nbformat_minor": 5
}
