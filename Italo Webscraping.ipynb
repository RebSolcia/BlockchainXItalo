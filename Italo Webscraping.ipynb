{
 "cells": [
  {
   "cell_type": "code",
   "execution_count": 2,
   "metadata": {},
   "outputs": [],
   "source": [
    "import pandas as pd\n",
    "import numpy as np\n",
    "from selenium import webdriver\n",
    "from selenium.webdriver.common.keys import Keys\n",
    "from selenium.webdriver.support.ui import WebDriverWait\n",
    "\n",
    "import time\n",
    "import datetime\n",
    "\n",
    "import warnings\n",
    "warnings.filterwarnings(\"ignore\")"
   ]
  },
  {
   "cell_type": "code",
   "execution_count": 3,
   "metadata": {},
   "outputs": [],
   "source": [
    " # https://chromedriver.chromium.org/downloads   \n",
    "from selenium.webdriver.chrome.service import Service\n",
    "ser = Service(\"/Users/silvi/Downloads/chromedriver_win32/chromedriver.exe\") \n",
    "\n",
    "# local_path_of_driver = \"/Users/steffenbrockmann/Downloads/chromedriver-2\""
   ]
  },
  {
   "cell_type": "code",
   "execution_count": 4,
   "metadata": {},
   "outputs": [],
   "source": [
    "def check_refund(train_number):\n",
    "    driver = webdriver.Chrome(service = ser)  # or webdriver.Chrome(executable_path=local_path_of_driver) \n",
    "    base_URL = 'https://italoinviaggio.italotreno.it/en/train'\n",
    "    train_number = train_number\n",
    "    driver.get(base_URL + '/' + str(train_number))\n",
    "    \n",
    "    try:\n",
    "        delay = driver.find_element_by_xpath('/html/body/div[2]/section/div/div/div[1]/div/div/div[3]/span[2]').get_attribute(\"innerText\")\n",
    "        #print(delay)\n",
    "        if (int(delay.split()[0])) >= 60:\n",
    "            return True\n",
    "        else:\n",
    "            return False\n",
    "    except:\n",
    "        #print('There is no delay')\n",
    "        return False"
   ]
  },
  {
   "cell_type": "code",
   "execution_count": 5,
   "metadata": {},
   "outputs": [
    {
     "data": {
      "text/plain": [
       "False"
      ]
     },
     "execution_count": 5,
     "metadata": {},
     "output_type": "execute_result"
    }
   ],
   "source": [
    "check_refund(8907)"
   ]
  },
  {
   "cell_type": "code",
   "execution_count": 45,
   "metadata": {
    "tags": []
   },
   "outputs": [],
   "source": [
    "def search_ticket_str(departure_station, arrival_station, dep_hour = 0):\n",
    "    \n",
    "    train_URL = 'https://www.italotreno.it/en/destinations-timetable/trains-schedules'    \n",
    "    \n",
    "    options = webdriver.ChromeOptions()\n",
    "    options.add_experimental_option(\"excludeSwitches\", [\"enable-automation\"])\n",
    "    options.add_experimental_option('useAutomationExtension', False)\n",
    "\n",
    "    driver = webdriver.Chrome(service = ser, options=options) # or webdriver.Chrome(executable_path=local_path_of_driver, options=options)\n",
    "    driver.get(train_URL)\n",
    "\n",
    "    search_box_from = driver.find_element_by_xpath('/html/body/main/section[3]/div[2]/form/div[1]/div/table/tbody/tr[1]/td[1]/fieldset/div/input[1]').send_keys(departure_station)\n",
    "    search_box_to = driver.find_element_by_xpath('/html/body/main/section[3]/div[2]/form/div[1]/div/table/tbody/tr[1]/td[3]/fieldset/div/input[1]').send_keys(arrival_station)\n",
    "\n",
    "    button = driver.find_element_by_xpath('/html/body/main/section[3]/div[2]/form/div[1]/div/table/tbody/tr[1]/td[4]/div/a')\n",
    "    webdriver.ActionChains(driver).click_and_hold(button).perform()\n",
    "    driver.execute_script(\"arguments[0].click();\", button)\n",
    "\n",
    "    time.sleep(10)\n",
    "\n",
    "    timing = []\n",
    "    num_options = len(driver.find_elements_by_xpath(\"/html/body/main/section[3]/div[3]/div[2]/table/tbody/tr\"))\n",
    "    \n",
    "    if num_options == 0:\n",
    "        return f\"Sorry, no routes available from {departure_station} to {arrival_station}\"\n",
    "    \n",
    "    dep_hour = str(dep_hour)+\"00\"\n",
    "    for i in range(1, num_options + 1):\n",
    "        time_dep = driver.find_element_by_xpath(f\"/html/body/main/section[3]/div[3]/div[2]/table/tbody/tr[{i}]/td[1]/p[1]\").get_attribute(\"innerText\")\n",
    "        time_arr = driver.find_element_by_xpath(f\"/html/body/main/section[3]/div[3]/div[2]/table/tbody/tr[{i}]/td[2]/p[1]\").get_attribute(\"innerText\")\n",
    "        \n",
    "        if (int(time_dep[:2]+time_arr[3:]) - int(dep_hour)) >= 0:\n",
    "            timing.append((i, time_dep, time_arr))\n",
    "    \n",
    "    if len(timing) == 0:\n",
    "        return f\"Sorry, no available trains after {dep_hour[:-2]}:00\"\n",
    "    \n",
    "    # If same departure time, first train is usually available on weekdays+saturdays, the second one on sundays\n",
    "    x = 0\n",
    "    if timing[0][1] == timing[1][1]:\n",
    "        if (datetime.datetime.today().weekday() + 1) == 6:\n",
    "            x = 1\n",
    "\n",
    "    choice = timing[x][0] \n",
    "    \n",
    "    time_of_departure, time_of_arrival = timing[x][1:]\n",
    "    day_dep = today.day+1\n",
    "    if (int(time_of_arrival.split(\":\")[0]) - int(time_of_departure.split(\":\")[0])) < 0:\n",
    "        day_arr = day_dep + 1\n",
    "    else:\n",
    "        day_arr = day_dep\n",
    "        \n",
    "    datetime_dep = datetime.datetime(today.year, today.month, day_dep, int(time_of_departure.split(\":\")[0]), int(time_of_departure.split(\":\")[1]))\n",
    "    unix_departure = round(time.mktime(datetime_dep.timetuple()))\n",
    "    datetime_arr = datetime.datetime(today.year, today.month, day_arr, int(time_of_arrival.split(\":\")[0]), int(time_of_arrival.split(\":\")[1]))\n",
    "    unix_arrival = round(time.mktime(datetime_arr.timetuple()))\n",
    "    \n",
    "    train_number = driver.find_element_by_xpath(f'/html/body/main/section[3]/div[3]/div[2]/table/tbody/tr[{choice}]/td[4]/p[2]').get_attribute(\"innerText\")\n",
    "    \n",
    "    button_book = driver.find_element_by_xpath('/html/body/main/section[3]/div[3]/div[2]/table/tbody/tr[1]/td[7]/div/div')\n",
    "    driver.execute_script(\"arguments[0].click();\", button_book)\n",
    "    price = driver.find_element_by_xpath('/html/body/form/div/div[2]/div[6]/div[1]/div[2]/div/ul/div/div/li[2]/p[3]').get_attribute(\"innerText\")\n",
    "    \n",
    "    \n",
    "    ticket = f\"{unix_departure}_{departure_station}_{unix_arrival}_{arrival_station}_{train_number}_{price}\"\n",
    "       \n",
    "    return ticket"
   ]
  },
  {
   "cell_type": "code",
   "execution_count": 46,
   "metadata": {},
   "outputs": [
    {
     "data": {
      "text/plain": [
       "'1639510800_Milano Centrale_1639523940_Roma Termini_9963_89.90 €'"
      ]
     },
     "execution_count": 46,
     "metadata": {},
     "output_type": "execute_result"
    }
   ],
   "source": [
    "search_ticket_str(\"Milano Centrale\", \"Roma Termini\", 20)"
   ]
  }
 ],
 "metadata": {
  "kernelspec": {
   "display_name": "Python 3",
   "language": "python",
   "name": "python3"
  },
  "language_info": {
   "codemirror_mode": {
    "name": "ipython",
    "version": 3
   },
   "file_extension": ".py",
   "mimetype": "text/x-python",
   "name": "python",
   "nbconvert_exporter": "python",
   "pygments_lexer": "ipython3",
   "version": "3.8.3"
  }
 },
 "nbformat": 4,
 "nbformat_minor": 5
}
